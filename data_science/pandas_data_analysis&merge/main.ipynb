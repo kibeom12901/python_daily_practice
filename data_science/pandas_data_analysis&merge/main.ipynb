'''# Introduction

Today we'll dive deep into a dataset all about LEGO. From the dataset, we can ask a whole bunch of interesting questions about the history of the LEGO company, their product offerings, and which LEGO set ultimately rules them all:

- What is the most enormous LEGO set ever created, and how many parts did it have?
- How did the LEGO company start out? In which year were the first LEGO sets released, and how many sets did the company sell when it first launched?
- Which LEGO theme has the most sets? Is it one of LEGO's own themes like Ninjago or a theme they licensed like Harry Potter or Marvel Superheroes?
- When did the LEGO company really expand its product offering? Can we spot a change in the company strategy based on how many themes and sets it released year-on-year?
- Did LEGO sets grow in size and complexity over time? Do older LEGO sets tend to have more or fewer parts than newer sets?

**Data Source**

[Rebrickable](https://rebrickable.com/downloads/) has compiled data on all the LEGO pieces in existence. I recommend you download the `.csv` files provided in this lesson.
'''

# Import Statements
from IPython.display import Image, display

display(Image(url="https://i.imgur.com/49FNOHj.jpg"))

# Data Exploration
"""**Challenge**: How many different colours does the LEGO company produce?
Read the colors.csv file in the data folder and find the total number of unique colours.
"""
import pandas as pd

df = pd.read_csv("data/colors.csv")
print(df.head())

# Count unique values in 'name' column
unique_colors = df["name"].nunique()
print(f"Total unique colors: {unique_colors}")

# Challenge: Find the number of transparent colors
transparent_colors = df[df['is_trans'] == 't'].count()
opaque_colors = df[df['is_trans'] == 'f'].count()
print("Transparent colors:", transparent_colors)
print("Opaque colors:", opaque_colors)

# Understanding LEGO Themes vs. LEGO Sets
'''Walk into a LEGO store and you will see their products organised by theme.
Their themes include Star Wars, Batman, Harry Potter and many more.'''

display(Image(url="https://i.imgur.com/aKcwkSx.png"))
display(Image(url="https://i.imgur.com/whB1olq.png"))

# Load sets.csv and examine the data
sets_df = pd.read_csv("data/sets.csv")
print(sets_df.head())
print(sets_df.tail())

# Find the first LEGO sets released
early_lego = sets_df.sort_values('year', ascending=True)
first_year = early_lego["year"].min()
early_lego = early_lego[early_lego["year"] == first_year]
print(f"First LEGO sets were released in {first_year}.")
print(early_lego)

# Find the top 5 LEGO sets with the most number of parts
top_lego = sets_df.sort_values('num_parts', ascending=False)
print(top_lego.head())

# Count the number of LEGO sets released year-on-year
group_counts = sets_df.groupby('year').count()
print(group_counts['set_num'].head())
print(group_counts['set_num'].tail())

# Show the number of LEGO releases on a line chart
import matplotlib.pyplot as plt

group_counts_filtered = group_counts.iloc[:-2]
plt.figure(figsize=(12, 6))
plt.plot(group_counts_filtered.index, group_counts_filtered.values, linestyle='-', color='b')
plt.xlabel("Year")
plt.ylabel("Number of LEGO Sets Released")
plt.title("LEGO Sets Released Over the Years (Complete Years Only)")
plt.grid(True)
plt.show()

# Aggregate Data with .agg() Function
themes_by_year = sets_df.groupby('year').agg({'theme_id': pd.Series.nunique}).rename(columns={'theme_id': 'nr_themes'})
print(themes_by_year)

themes_filtered = themes_by_year.iloc[:-2]
plt.figure(figsize=(12, 6))
plt.plot(themes_filtered.index, themes_filtered.values, linestyle='-', color='b')
plt.xlabel("Year")
plt.ylabel("Number of themes")
plt.title("Number of themes per year")
plt.grid(True)
plt.show()

# Compare number of sets and themes using dual y-axes
themes_per_year = sets_df.groupby('year')['theme_id'].nunique()
sets_per_year = sets_df.groupby('year')['set_num'].count()

fig, ax1 = plt.subplots(figsize=(12, 6))
ax1.plot(sets_per_year.index, sets_per_year, color='b', linestyle='-', label="Number of Sets")
ax1.set_xlabel("Year")
ax1.set_ylabel("Number of Sets", color='b')
ax1.tick_params(axis='y', labelcolor='b')

ax2 = ax1.twinx()
ax2.plot(themes_per_year.index, themes_per_year, color='r', linestyle='-', label="Number of Themes")
ax2.set_ylabel("Number of Themes", color='r')
ax2.tick_params(axis='y', labelcolor='r')
plt.title("Number of LEGO Sets & Themes Released Per Year")
ax1.grid(True)
plt.show()

# Finding Star Wars sets in the data
themes_df = pd.read_csv("data/themes.csv")
star_wars_id = themes_df.loc[themes_df['name'] == 'Star Wars', 'id'].values
star_wars_sets = sets_df[sets_df['theme_id'].isin(star_wars_id)]
print(star_wars_sets)

# Merge datasets
merged_df = sets_df.merge(themes_df, left_on='theme_id', right_on='id')
print(merged_df.head())

# Find the year with the highest average number of parts
mean_parts_num = sets_df.groupby('year').agg({'num_parts': pd.Series.mean})
print(f"Year with most parts: {mean_parts_num.idxmax()[0]}")
print(f"Mean parts in 2020: {mean_parts_num.loc[2020, 'num_parts']}")
