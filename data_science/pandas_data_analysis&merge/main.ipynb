# Introduction

Today we'll dive deep into a dataset all about LEGO. From the dataset, we can ask a whole bunch of interesting questions about the history of the LEGO company, their product offerings, and which LEGO set ultimately rules them all:

- What is the most enormous LEGO set ever created, and how many parts did it have?
- How did the LEGO company start out? In which year were the first LEGO sets released, and how many sets did the company sell when it first launched?
- Which LEGO theme has the most sets? Is it one of LEGO's own themes like Ninjago or a theme they licensed like Harry Potter or Marvel Superheroes?
- When did the LEGO company really expand its product offering? Can we spot a change in the company strategy based on how many themes and sets it released year-on-year?
- Did LEGO sets grow in size and complexity over time? Do older LEGO sets tend to have more or fewer parts than newer sets?

## Data Source

[Rebrickable](https://rebrickable.com/downloads/) has compiled data on all the LEGO pieces in existence. I recommend you download the `.csv` files provided in this lesson.
